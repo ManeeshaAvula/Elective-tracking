{
 "cells": [
  {
   "cell_type": "code",
   "execution_count": 20,
   "id": "6b7fc8e8",
   "metadata": {},
   "outputs": [],
   "source": [
    "import os\n",
    "import pandas as pd\n",
    "\n",
    "# Directory containing Excel files\n",
    "folder_path = 'Data/Y21/V'\n",
    "\n",
    "# Get list of all files in the directory\n",
    "files = os.listdir(folder_path)\n",
    "\n",
    "# Filter out only Excel files\n",
    "excel_files = [file for file in files if file.endswith('.xlsx') or file.endswith('.xls')]\n",
    "\n",
    "# print(excel_files)\n",
    "\n",
    "# Iterate over each Excel file and read it into a DataFrame\n",
    "dfs = []\n",
    "dept_list=[\"EC\",\"CE\",\"EEE\",\"EIE\",\"IT\",\"ME\",\"CB DS\"]\n",
    "main_df_21_5=pd.DataFrame(columns=[\"Reg Id\",\"Name\",\"SUB CODE\",\"SUB NAME\",\"Dept\",\"Sem\",\"Year\"])\n",
    "for file in excel_files:\n",
    "    file_path = os.path.join(folder_path, file)\n",
    "    for i in dept_list:\n",
    "        if(i in file_path):\n",
    "            dept=i\n",
    "           # print(dept)\n",
    "    sheet=pd.read_excel(file_path,header=None)\n",
    "    u_s1=sheet.iloc[7:,:]\n",
    "    u_s1.columns = u_s1.iloc[0]\n",
    "    u_s1.reset_index(drop=True,inplace=True)\n",
    "    u_s1=u_s1.iloc[1:,:]\n",
    "    u_s1.columns.values[0]=\"Reg Id\"\n",
    "    u_s1.columns.values[1]=\"Name\"\n",
    "    new_df=pd.DataFrame(u_s1)\n",
    "    temp_cols_sc=list(new_df.columns)\n",
    "    temp_cols_sn=list(new_df.columns)\n",
    "    temp_cols_sc_index=[i for i in range(0,len(temp_cols_sc)) if(temp_cols_sc[i]==\"SUB CODE\")]\n",
    "    temp_cols_sn_index=[i for i in range(0,len(temp_cols_sn)) if(temp_cols_sn[i]==\"SUB NAME\")]\n",
    "    for i in range(0,len(temp_cols_sc_index)):\n",
    "        new_df_temp=pd.DataFrame()\n",
    "        new_df_temp[\"Name\"]=new_df[\"Name\"]\n",
    "        new_df_temp[\"Reg Id\"]=new_df[\"Reg Id\"]\n",
    "        new_df_temp[\"SUB CODE\"]=new_df.iloc[:,temp_cols_sc_index[i]]\n",
    "        new_df_temp[\"SUB NAME\"]=new_df.iloc[:,temp_cols_sn_index[i]]\n",
    "        new_df_temp[\"Dept\"]=dept\n",
    "        new_df_temp[\"Sem\"]=\"V\"\n",
    "        new_df_temp[\"Year\"]=\"21\"\n",
    "        main_df_21_5=pd.concat([main_df_21_5,new_df_temp],ignore_index=True,axis=0)"
   ]
  },
  {
   "cell_type": "code",
   "execution_count": 2,
   "id": "5f163af6",
   "metadata": {},
   "outputs": [
    {
     "data": {
      "text/plain": [
       "(2647, 7)"
      ]
     },
     "execution_count": 2,
     "metadata": {},
     "output_type": "execute_result"
    }
   ],
   "source": [
    "main_df_21_5.shape"
   ]
  },
  {
   "cell_type": "code",
   "execution_count": 3,
   "id": "7e5e0f34",
   "metadata": {},
   "outputs": [],
   "source": [
    "vi_21_samef_dept_list=[\"CB\",'CS','CE','DS','EC','EI','IT','ME']\n",
    "vi_21_diff_dept_list=[\"EE\"]"
   ]
  },
  {
   "cell_type": "code",
   "execution_count": 5,
   "id": "ee0d395b",
   "metadata": {},
   "outputs": [],
   "source": [
    "import os\n",
    "import pandas as pd\n",
    "\n",
    "# Directory containing Excel files\n",
    "folder_path = 'Data/Y21/VI'\n",
    "\n",
    "# Get list of all files in the directory\n",
    "files = os.listdir(folder_path)\n",
    "\n",
    "# Filter out only Excel files\n",
    "excel_files = [file for file in files if file.endswith('.xlsx') or file.endswith('.xls')]\n",
    "\n",
    "# print(excel_files)\n",
    "\n",
    "# print(len(excel_files))\n",
    "\n",
    "# Iterate over each Excel file and read it into a DataFrame\n",
    "dfs = []\n",
    "vi_21_samef_dept_list=[\"CB\",'CS','CE','DS','EC','EI','IT','ME']\n",
    "vi_21_diff_dept_list=[\"EE\"]\n",
    "main_df_21_6=pd.DataFrame(columns=[\"Reg Id\",\"SUB CODE\",\"SUB NAME\",\"Dept\",\"Sem\",\"Year\"])\n",
    "for file in excel_files:\n",
    "    file_path = os.path.join(folder_path, file)\n",
    "#     print(file_path)\n",
    "    for i in vi_21_samef_dept_list:\n",
    "        if(i in file_path and '~$' not in file_path):\n",
    "            dept=i\n",
    "#             print(dept)\n",
    "            sheet=pd.read_excel(file_path,header=None)\n",
    "            u_s1=sheet.iloc[2:,:]\n",
    "            u_s1.columns = u_s1.iloc[0]\n",
    "            u_s1.reset_index(drop=True,inplace=True)\n",
    "            u_s1=u_s1.iloc[1:,:]\n",
    "            u_s1.columns.values[0]=\"Reg Id\"\n",
    "            new_df=pd.DataFrame(u_s1)\n",
    "            temp_cols_sc=list(new_df.columns)\n",
    "            temp_cols_sn=list(new_df.columns)\n",
    "            temp_cols_sc_index=[i for i in range(0,len(temp_cols_sc)) if(temp_cols_sc[i]==\"SUB CODE\")]\n",
    "            temp_cols_sn_index=[i for i in range(0,len(temp_cols_sn)) if(temp_cols_sn[i]==\"SUB NAME\")]\n",
    "            for i in range(0,len(temp_cols_sc_index)):\n",
    "                new_df_temp=pd.DataFrame()\n",
    "                new_df_temp[\"Reg Id\"]=new_df[\"Reg Id\"]\n",
    "                new_df_temp[\"SUB CODE\"]=new_df.iloc[:,temp_cols_sc_index[i]]\n",
    "                new_df_temp[\"SUB NAME\"]=new_df.iloc[:,temp_cols_sn_index[i]]\n",
    "                new_df_temp[\"Dept\"]=dept\n",
    "                new_df_temp[\"Sem\"]=\"VI\"\n",
    "                new_df_temp[\"Year\"]=\"21\"\n",
    "                main_df_21_6=pd.concat([main_df_21_6,new_df_temp],ignore_index=True,axis=0)"
   ]
  },
  {
   "cell_type": "code",
   "execution_count": 6,
   "id": "fd203979",
   "metadata": {},
   "outputs": [
    {
     "data": {
      "text/html": [
       "<div>\n",
       "<style scoped>\n",
       "    .dataframe tbody tr th:only-of-type {\n",
       "        vertical-align: middle;\n",
       "    }\n",
       "\n",
       "    .dataframe tbody tr th {\n",
       "        vertical-align: top;\n",
       "    }\n",
       "\n",
       "    .dataframe thead th {\n",
       "        text-align: right;\n",
       "    }\n",
       "</style>\n",
       "<table border=\"1\" class=\"dataframe\">\n",
       "  <thead>\n",
       "    <tr style=\"text-align: right;\">\n",
       "      <th></th>\n",
       "      <th>Reg Id</th>\n",
       "      <th>SUB CODE</th>\n",
       "      <th>SUB NAME</th>\n",
       "      <th>Dept</th>\n",
       "      <th>Sem</th>\n",
       "      <th>Year</th>\n",
       "    </tr>\n",
       "  </thead>\n",
       "  <tbody>\n",
       "    <tr>\n",
       "      <th>0</th>\n",
       "      <td>L21ACS415</td>\n",
       "      <td>20CS604/PE2/2B</td>\n",
       "      <td>Block Chain Technologies</td>\n",
       "      <td>CS</td>\n",
       "      <td>VI</td>\n",
       "      <td>21</td>\n",
       "    </tr>\n",
       "    <tr>\n",
       "      <th>1</th>\n",
       "      <td>L22ACS593</td>\n",
       "      <td>20CS604/PE2/2B</td>\n",
       "      <td>Block Chain Technologies</td>\n",
       "      <td>CS</td>\n",
       "      <td>VI</td>\n",
       "      <td>21</td>\n",
       "    </tr>\n",
       "    <tr>\n",
       "      <th>2</th>\n",
       "      <td>L22ACS596</td>\n",
       "      <td>20CS604/PE2/2B</td>\n",
       "      <td>Block Chain Technologies</td>\n",
       "      <td>CS</td>\n",
       "      <td>VI</td>\n",
       "      <td>21</td>\n",
       "    </tr>\n",
       "    <tr>\n",
       "      <th>3</th>\n",
       "      <td>L22ACS598</td>\n",
       "      <td>20CS604/PE2/2B</td>\n",
       "      <td>Block Chain Technologies</td>\n",
       "      <td>CS</td>\n",
       "      <td>VI</td>\n",
       "      <td>21</td>\n",
       "    </tr>\n",
       "    <tr>\n",
       "      <th>4</th>\n",
       "      <td>L22ACS602</td>\n",
       "      <td>20CS604/PE2/2B</td>\n",
       "      <td>Block Chain Technologies</td>\n",
       "      <td>CS</td>\n",
       "      <td>VI</td>\n",
       "      <td>21</td>\n",
       "    </tr>\n",
       "    <tr>\n",
       "      <th>...</th>\n",
       "      <td>...</td>\n",
       "      <td>...</td>\n",
       "      <td>...</td>\n",
       "      <td>...</td>\n",
       "      <td>...</td>\n",
       "      <td>...</td>\n",
       "    </tr>\n",
       "    <tr>\n",
       "      <th>1531</th>\n",
       "      <td>Y21ACS587</td>\n",
       "      <td>20CSL603/JO2/2B</td>\n",
       "      <td>INDUSTRIAL IOT LAB</td>\n",
       "      <td>EC</td>\n",
       "      <td>VI</td>\n",
       "      <td>21</td>\n",
       "    </tr>\n",
       "    <tr>\n",
       "      <th>1532</th>\n",
       "      <td>Y21ACS588</td>\n",
       "      <td>20CSL603/JO2/2C</td>\n",
       "      <td>COMPUTER ANIMATION AND GAME DESIGN LAB</td>\n",
       "      <td>EC</td>\n",
       "      <td>VI</td>\n",
       "      <td>21</td>\n",
       "    </tr>\n",
       "    <tr>\n",
       "      <th>1533</th>\n",
       "      <td>Y21ACS589</td>\n",
       "      <td>20CSL603/JO2/2B</td>\n",
       "      <td>INDUSTRIAL IOT LAB</td>\n",
       "      <td>EC</td>\n",
       "      <td>VI</td>\n",
       "      <td>21</td>\n",
       "    </tr>\n",
       "    <tr>\n",
       "      <th>1534</th>\n",
       "      <td>Y21ACS590</td>\n",
       "      <td>20CSL603/JO2/2A</td>\n",
       "      <td>MOBILE APPLICATION DEVELOPMENT LAB</td>\n",
       "      <td>EC</td>\n",
       "      <td>VI</td>\n",
       "      <td>21</td>\n",
       "    </tr>\n",
       "    <tr>\n",
       "      <th>1535</th>\n",
       "      <td>Y21ACS592</td>\n",
       "      <td>20CSL603/JO2/2B</td>\n",
       "      <td>INDUSTRIAL IOT LAB</td>\n",
       "      <td>EC</td>\n",
       "      <td>VI</td>\n",
       "      <td>21</td>\n",
       "    </tr>\n",
       "  </tbody>\n",
       "</table>\n",
       "<p>1536 rows × 6 columns</p>\n",
       "</div>"
      ],
      "text/plain": [
       "         Reg Id         SUB CODE                                SUB NAME Dept  \\\n",
       "0     L21ACS415   20CS604/PE2/2B                Block Chain Technologies   CS   \n",
       "1     L22ACS593   20CS604/PE2/2B                Block Chain Technologies   CS   \n",
       "2     L22ACS596   20CS604/PE2/2B                Block Chain Technologies   CS   \n",
       "3     L22ACS598   20CS604/PE2/2B                Block Chain Technologies   CS   \n",
       "4     L22ACS602   20CS604/PE2/2B                Block Chain Technologies   CS   \n",
       "...         ...              ...                                     ...  ...   \n",
       "1531  Y21ACS587  20CSL603/JO2/2B                      INDUSTRIAL IOT LAB   EC   \n",
       "1532  Y21ACS588  20CSL603/JO2/2C  COMPUTER ANIMATION AND GAME DESIGN LAB   EC   \n",
       "1533  Y21ACS589  20CSL603/JO2/2B                      INDUSTRIAL IOT LAB   EC   \n",
       "1534  Y21ACS590  20CSL603/JO2/2A      MOBILE APPLICATION DEVELOPMENT LAB   EC   \n",
       "1535  Y21ACS592  20CSL603/JO2/2B                      INDUSTRIAL IOT LAB   EC   \n",
       "\n",
       "     Sem Year  \n",
       "0     VI   21  \n",
       "1     VI   21  \n",
       "2     VI   21  \n",
       "3     VI   21  \n",
       "4     VI   21  \n",
       "...   ..  ...  \n",
       "1531  VI   21  \n",
       "1532  VI   21  \n",
       "1533  VI   21  \n",
       "1534  VI   21  \n",
       "1535  VI   21  \n",
       "\n",
       "[1536 rows x 6 columns]"
      ]
     },
     "execution_count": 6,
     "metadata": {},
     "output_type": "execute_result"
    }
   ],
   "source": [
    "main_df_21_6"
   ]
  },
  {
   "cell_type": "code",
   "execution_count": 9,
   "id": "22959916",
   "metadata": {},
   "outputs": [],
   "source": [
    "import os\n",
    "import pandas as pd\n",
    "\n",
    "\n",
    "sheet=pd.read_excel(\"Data/Y21/VI/Y21 BATCH VI SEM ELECTIVES-EE.xlsx\",header=None)\n",
    "main_df_21_6_ee=pd.DataFrame(columns=[\"Reg Id\",\"Name\",\"SUB CODE\",\"SUB NAME\",\"Dept\",\"Sem\",\"Year\"])\n",
    "u_s1=sheet.iloc[8:,:]\n",
    "u_s1.columns = u_s1.iloc[0]\n",
    "u_s1.reset_index(drop=True,inplace=True)\n",
    "u_s1=u_s1.iloc[1:,1:]\n",
    "u_s1.columns.values[0]=\"Reg Id\"\n",
    "u_s1.columns.values[1]=\"Name\"\n",
    "new_df=pd.DataFrame(u_s1)\n",
    "temp_cols_sc=list(new_df.columns)\n",
    "temp_cols_sn=list(new_df.columns)\n",
    "temp_cols_sc_index=[i for i in range(0,len(temp_cols_sc)) if(temp_cols_sc[i]==\"SUB CODE\")]\n",
    "temp_cols_sn_index=[i for i in range(0,len(temp_cols_sn)) if(temp_cols_sn[i]==\"SUB NAME\")]\n",
    "for i in range(0,len(temp_cols_sc_index)):\n",
    "    new_df_temp=pd.DataFrame()\n",
    "    new_df_temp[\"Reg Id\"]=new_df[\"Reg Id\"]\n",
    "    new_df_temp[\"Name\"]=new_df[\"Name\"]\n",
    "    new_df_temp[\"SUB CODE\"]=new_df.iloc[:,temp_cols_sc_index[i]]\n",
    "    new_df_temp[\"SUB NAME\"]=new_df.iloc[:,temp_cols_sn_index[i]]\n",
    "    new_df_temp[\"Dept\"]=\"EE\"\n",
    "    new_df_temp[\"Sem\"]=\"VI\"\n",
    "    new_df_temp[\"Year\"]=\"21\"\n",
    "    main_df_21_6_ee=pd.concat([main_df_21_6_ee,new_df_temp],ignore_index=True,axis=0)"
   ]
  },
  {
   "cell_type": "code",
   "execution_count": 10,
   "id": "133073b2",
   "metadata": {},
   "outputs": [
    {
     "data": {
      "text/html": [
       "<div>\n",
       "<style scoped>\n",
       "    .dataframe tbody tr th:only-of-type {\n",
       "        vertical-align: middle;\n",
       "    }\n",
       "\n",
       "    .dataframe tbody tr th {\n",
       "        vertical-align: top;\n",
       "    }\n",
       "\n",
       "    .dataframe thead th {\n",
       "        text-align: right;\n",
       "    }\n",
       "</style>\n",
       "<table border=\"1\" class=\"dataframe\">\n",
       "  <thead>\n",
       "    <tr style=\"text-align: right;\">\n",
       "      <th></th>\n",
       "      <th>Reg Id</th>\n",
       "      <th>Name</th>\n",
       "      <th>SUB CODE</th>\n",
       "      <th>SUB NAME</th>\n",
       "      <th>Dept</th>\n",
       "      <th>Sem</th>\n",
       "      <th>Year</th>\n",
       "    </tr>\n",
       "  </thead>\n",
       "  <tbody>\n",
       "    <tr>\n",
       "      <th>0</th>\n",
       "      <td>L21AEE423</td>\n",
       "      <td>PUNURI BENHAR</td>\n",
       "      <td>20EE602/ PE2C</td>\n",
       "      <td>HVDC &amp; FACTS</td>\n",
       "      <td>EE</td>\n",
       "      <td>VI</td>\n",
       "      <td>21</td>\n",
       "    </tr>\n",
       "    <tr>\n",
       "      <th>1</th>\n",
       "      <td>L22AEE490</td>\n",
       "      <td>ADABALA GANESH</td>\n",
       "      <td>20EE602/ PE2C</td>\n",
       "      <td>HVDC &amp; FACTS</td>\n",
       "      <td>EE</td>\n",
       "      <td>VI</td>\n",
       "      <td>21</td>\n",
       "    </tr>\n",
       "    <tr>\n",
       "      <th>2</th>\n",
       "      <td>L22AEE491</td>\n",
       "      <td>ADADA GANESH</td>\n",
       "      <td>20EE602/ PE2C</td>\n",
       "      <td>HVDC &amp; FACTS</td>\n",
       "      <td>EE</td>\n",
       "      <td>VI</td>\n",
       "      <td>21</td>\n",
       "    </tr>\n",
       "    <tr>\n",
       "      <th>3</th>\n",
       "      <td>L22AEE492</td>\n",
       "      <td>AGRAPU DURGAPRASAD</td>\n",
       "      <td>20EE602/ PE2C</td>\n",
       "      <td>HVDC &amp; FACTS</td>\n",
       "      <td>EE</td>\n",
       "      <td>VI</td>\n",
       "      <td>21</td>\n",
       "    </tr>\n",
       "    <tr>\n",
       "      <th>4</th>\n",
       "      <td>L22AEE493</td>\n",
       "      <td>ALLA SONIKA REDDI</td>\n",
       "      <td>20EE602/ PE2C</td>\n",
       "      <td>HVDC &amp; FACTS</td>\n",
       "      <td>EE</td>\n",
       "      <td>VI</td>\n",
       "      <td>21</td>\n",
       "    </tr>\n",
       "  </tbody>\n",
       "</table>\n",
       "</div>"
      ],
      "text/plain": [
       "      Reg Id                Name       SUB CODE      SUB NAME Dept Sem Year\n",
       "0  L21AEE423       PUNURI BENHAR  20EE602/ PE2C  HVDC & FACTS   EE  VI   21\n",
       "1  L22AEE490      ADABALA GANESH  20EE602/ PE2C  HVDC & FACTS   EE  VI   21\n",
       "2  L22AEE491        ADADA GANESH  20EE602/ PE2C  HVDC & FACTS   EE  VI   21\n",
       "3  L22AEE492  AGRAPU DURGAPRASAD  20EE602/ PE2C  HVDC & FACTS   EE  VI   21\n",
       "4  L22AEE493   ALLA SONIKA REDDI  20EE602/ PE2C  HVDC & FACTS   EE  VI   21"
      ]
     },
     "execution_count": 10,
     "metadata": {},
     "output_type": "execute_result"
    }
   ],
   "source": [
    "main_df_21_6_ee.head(5)"
   ]
  },
  {
   "cell_type": "code",
   "execution_count": 11,
   "id": "f65dcaf3",
   "metadata": {},
   "outputs": [
    {
     "data": {
      "text/plain": [
       "(1536, 6)"
      ]
     },
     "execution_count": 11,
     "metadata": {},
     "output_type": "execute_result"
    }
   ],
   "source": [
    "main_df_21_6.shape"
   ]
  },
  {
   "cell_type": "code",
   "execution_count": 12,
   "id": "e80a5b03",
   "metadata": {},
   "outputs": [
    {
     "data": {
      "text/plain": [
       "(500, 7)"
      ]
     },
     "execution_count": 12,
     "metadata": {},
     "output_type": "execute_result"
    }
   ],
   "source": [
    "main_df_21_6_ee.shape"
   ]
  },
  {
   "cell_type": "code",
   "execution_count": 13,
   "id": "1f7bbd8d",
   "metadata": {},
   "outputs": [],
   "source": [
    "main_df_21_6=pd.concat([main_df_21_6,main_df_21_6_ee],axis=0)"
   ]
  },
  {
   "cell_type": "code",
   "execution_count": 14,
   "id": "bdf4b2b2",
   "metadata": {},
   "outputs": [
    {
     "data": {
      "text/plain": [
       "(2036, 7)"
      ]
     },
     "execution_count": 14,
     "metadata": {},
     "output_type": "execute_result"
    }
   ],
   "source": [
    "main_df_21_6.shape"
   ]
  },
  {
   "cell_type": "code",
   "execution_count": 15,
   "id": "32523f2b",
   "metadata": {},
   "outputs": [
    {
     "data": {
      "text/plain": [
       "(2647, 7)"
      ]
     },
     "execution_count": 15,
     "metadata": {},
     "output_type": "execute_result"
    }
   ],
   "source": [
    "main_df_21_5.shape"
   ]
  },
  {
   "cell_type": "code",
   "execution_count": 16,
   "id": "fe3742d5",
   "metadata": {},
   "outputs": [],
   "source": [
    "main_df_21=pd.concat([main_df_21_5,main_df_21_6],ignore_index=True,axis=0)"
   ]
  },
  {
   "cell_type": "code",
   "execution_count": 17,
   "id": "9c73f5f2",
   "metadata": {},
   "outputs": [
    {
     "data": {
      "text/plain": [
       "(4683, 7)"
      ]
     },
     "execution_count": 17,
     "metadata": {},
     "output_type": "execute_result"
    }
   ],
   "source": [
    "main_df_21.shape"
   ]
  },
  {
   "cell_type": "code",
   "execution_count": 18,
   "id": "8e5d8942",
   "metadata": {},
   "outputs": [],
   "source": [
    "main_df_21.to_excel(\"main_df_21.xlsx\", index=False)  "
   ]
  },
  {
   "cell_type": "code",
   "execution_count": null,
   "id": "f79ea4a5",
   "metadata": {},
   "outputs": [],
   "source": []
  }
 ],
 "metadata": {
  "kernelspec": {
   "display_name": "Python 3 (ipykernel)",
   "language": "python",
   "name": "python3"
  },
  "language_info": {
   "codemirror_mode": {
    "name": "ipython",
    "version": 3
   },
   "file_extension": ".py",
   "mimetype": "text/x-python",
   "name": "python",
   "nbconvert_exporter": "python",
   "pygments_lexer": "ipython3",
   "version": "3.11.5"
  }
 },
 "nbformat": 4,
 "nbformat_minor": 5
}
