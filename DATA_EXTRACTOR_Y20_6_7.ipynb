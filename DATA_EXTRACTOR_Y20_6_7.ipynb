{
 "cells": [
  {
   "cell_type": "code",
   "execution_count": 1,
   "id": "ee0d395b",
   "metadata": {},
   "outputs": [],
   "source": [
    "import os\n",
    "import pandas as pd\n",
    "\n",
    "# Directory containing Excel files\n",
    "folder_path = 'Data/Y20/VI'\n",
    "\n",
    "# Get list of all files in the directory\n",
    "files = os.listdir(folder_path)\n",
    "\n",
    "# Filter out only Excel files\n",
    "excel_files = [file for file in files if file.endswith('.xlsx') or file.endswith('.xls')]\n",
    "\n",
    "#print(excel_files)\n",
    "\n",
    "# print(len(excel_files))\n",
    "\n",
    "# Iterate over each Excel file and read it into a DataFrame\n",
    "dfs = []\n",
    "vi_20_samef_dept_list=[\"EC\",'Mechanical','CE','CS','EEE','IT','EIE']\n",
    "vi_20_diff_dept_list=[\"CBDS\"]\n",
    "main_df_20_6=pd.DataFrame(columns=[\"Reg Id\",\"Name\",\"SUB CODE\",\"SUB NAME\",\"Dept\",\"Sem\",\"Year\"])\n",
    "for file in excel_files:\n",
    "    file_path = os.path.join(folder_path, file)\n",
    "    #print(file_path)\n",
    "    for i in vi_20_samef_dept_list:\n",
    "        if(\"_\"+i in file_path and '~$' not in file_path):\n",
    "            dept=i\n",
    "            #print(dept,file_path)\n",
    "            sheet=pd.read_excel(file_path,header=None)\n",
    "            u_s1=sheet.iloc[7:,:]\n",
    "            u_s1.columns = u_s1.iloc[0]\n",
    "            u_s1.reset_index(drop=True,inplace=True)\n",
    "            u_s1=u_s1.iloc[1:,:]\n",
    "            #print(u_s1.columns)\n",
    "            u_s1.columns.values[0]=\"Reg Id\"\n",
    "            u_s1.columns.values[1]=\"Name\"\n",
    "            new_df=pd.DataFrame(u_s1)\n",
    "            temp_cols_sc=list(new_df.columns)\n",
    "            temp_cols_sn=list(new_df.columns)\n",
    "            temp_cols_sc_index=[i for i in range(0,len(temp_cols_sc)) if(temp_cols_sc[i]==\"SUB CODE\")]\n",
    "            temp_cols_sn_index=[i for i in range(0,len(temp_cols_sn)) if(temp_cols_sn[i]==\"SUB NAME\")]\n",
    "            #print(temp_cols_sc_index,temp_cols_sn_index)\n",
    "            for i in range(0,len(temp_cols_sc_index)):\n",
    "                new_df_temp=pd.DataFrame()\n",
    "                new_df_temp[\"Reg Id\"]=new_df[\"Reg Id\"]\n",
    "                new_df_temp[\"SUB CODE\"]=new_df.iloc[:,temp_cols_sc_index[i]]\n",
    "                new_df_temp[\"SUB NAME\"]=new_df.iloc[:,temp_cols_sn_index[i]]\n",
    "                new_df_temp[\"Dept\"]=dept\n",
    "                new_df_temp[\"Sem\"]=\"VI\"\n",
    "                new_df_temp[\"Year\"]=\"20\"\n",
    "                new_df_temp[\"Name\"]=new_df[\"Name\"]\n",
    "                main_df_20_6=pd.concat([main_df_20_6,new_df_temp],ignore_index=True,axis=0)\n",
    "                "
   ]
  },
  {
   "cell_type": "code",
   "execution_count": 2,
   "id": "43e11d8a",
   "metadata": {},
   "outputs": [],
   "source": [
    "main_df_20_6.dropna(inplace=True)"
   ]
  },
  {
   "cell_type": "code",
   "execution_count": 3,
   "id": "9206f768",
   "metadata": {},
   "outputs": [
    {
     "data": {
      "text/plain": [
       "(2600, 7)"
      ]
     },
     "execution_count": 3,
     "metadata": {},
     "output_type": "execute_result"
    }
   ],
   "source": [
    "main_df_20_6.shape"
   ]
  },
  {
   "cell_type": "code",
   "execution_count": 4,
   "id": "22959916",
   "metadata": {},
   "outputs": [],
   "source": [
    "import os\n",
    "import pandas as pd\n",
    "\n",
    "\n",
    "sheet=pd.read_excel(\"Data/Y20/VI/A.Y 2022-23 VI SEM ELECTIVES-CBDS.xlsx\",header=None)\n",
    "main_df_20_6_cbds=pd.DataFrame(columns=[\"Reg Id\",\"Name\",\"SUB CODE\",\"SUB NAME\",\"Dept\",\"Sem\",\"Year\"])\n",
    "u_s1=sheet.iloc[6:,:]\n",
    "u_s1.columns = u_s1.iloc[0]\n",
    "u_s1.reset_index(drop=True,inplace=True)\n",
    "u_s1=u_s1.iloc[1:,1:]\n",
    "u_s1.columns.values[0]=\"Reg Id\"\n",
    "u_s1.columns.values[1]=\"Name\"\n",
    "new_df=pd.DataFrame(u_s1)\n",
    "temp_cols_sc=list(new_df.columns)\n",
    "temp_cols_sn=list(new_df.columns)\n",
    "temp_cols_sc_index=[i for i in range(0,len(temp_cols_sc)) if(temp_cols_sc[i]==\"SUB CODE\")]\n",
    "temp_cols_sn_index=[i for i in range(0,len(temp_cols_sn)) if(temp_cols_sn[i]==\"SUB NAME\")]\n",
    "for i in range(0,len(temp_cols_sc_index)):\n",
    "    new_df_temp=pd.DataFrame()\n",
    "    new_df_temp[\"Reg Id\"]=new_df[\"Reg Id\"]\n",
    "    new_df_temp[\"Name\"]=new_df[\"Name\"]\n",
    "    new_df_temp[\"SUB CODE\"]=new_df.iloc[:,temp_cols_sc_index[i]]\n",
    "    new_df_temp[\"SUB NAME\"]=new_df.iloc[:,temp_cols_sn_index[i]]\n",
    "    new_df_temp[\"Dept\"]=\"CBDS\"\n",
    "    new_df_temp[\"Sem\"]=\"VI\"\n",
    "    new_df_temp[\"Year\"]=\"20\"\n",
    "    main_df_20_6_cbds=pd.concat([main_df_20_6_cbds,new_df_temp],ignore_index=True,axis=0)"
   ]
  },
  {
   "cell_type": "code",
   "execution_count": 5,
   "id": "133073b2",
   "metadata": {},
   "outputs": [
    {
     "data": {
      "text/html": [
       "<div>\n",
       "<style scoped>\n",
       "    .dataframe tbody tr th:only-of-type {\n",
       "        vertical-align: middle;\n",
       "    }\n",
       "\n",
       "    .dataframe tbody tr th {\n",
       "        vertical-align: top;\n",
       "    }\n",
       "\n",
       "    .dataframe thead th {\n",
       "        text-align: right;\n",
       "    }\n",
       "</style>\n",
       "<table border=\"1\" class=\"dataframe\">\n",
       "  <thead>\n",
       "    <tr style=\"text-align: right;\">\n",
       "      <th></th>\n",
       "      <th>Reg Id</th>\n",
       "      <th>Name</th>\n",
       "      <th>SUB CODE</th>\n",
       "      <th>SUB NAME</th>\n",
       "      <th>Dept</th>\n",
       "      <th>Sem</th>\n",
       "      <th>Year</th>\n",
       "    </tr>\n",
       "  </thead>\n",
       "  <tbody>\n",
       "    <tr>\n",
       "      <th>0</th>\n",
       "      <td>BOPPUDI SUDESH</td>\n",
       "      <td>20CB604/PE2</td>\n",
       "      <td>20CB605/JO2</td>\n",
       "      <td>BLOCKCHAIN TECHNOLOGIES</td>\n",
       "      <td>CBDS</td>\n",
       "      <td>VI</td>\n",
       "      <td>20</td>\n",
       "    </tr>\n",
       "    <tr>\n",
       "      <th>1</th>\n",
       "      <td>DAKAMARRI JESHNAVI SRI KAVITHA</td>\n",
       "      <td>20CB604/PE2</td>\n",
       "      <td>20CB605/JO2</td>\n",
       "      <td>BLOCKCHAIN TECHNOLOGIES</td>\n",
       "      <td>CBDS</td>\n",
       "      <td>VI</td>\n",
       "      <td>20</td>\n",
       "    </tr>\n",
       "    <tr>\n",
       "      <th>2</th>\n",
       "      <td>MADDI JAYANTH</td>\n",
       "      <td>20CB604/PE2</td>\n",
       "      <td>20CB605/JO2</td>\n",
       "      <td>BLOCKCHAIN TECHNOLOGIES</td>\n",
       "      <td>CBDS</td>\n",
       "      <td>VI</td>\n",
       "      <td>20</td>\n",
       "    </tr>\n",
       "    <tr>\n",
       "      <th>3</th>\n",
       "      <td>ATMAKURI RAMYA</td>\n",
       "      <td>20CB604/PE2</td>\n",
       "      <td>20CB605/JO2</td>\n",
       "      <td>BLOCKCHAIN TECHNOLOGIES</td>\n",
       "      <td>CBDS</td>\n",
       "      <td>VI</td>\n",
       "      <td>20</td>\n",
       "    </tr>\n",
       "    <tr>\n",
       "      <th>4</th>\n",
       "      <td>BODDULURI JAGADISH</td>\n",
       "      <td>20CB604/PE2</td>\n",
       "      <td>20CB605/JO2</td>\n",
       "      <td>BLOCKCHAIN TECHNOLOGIES</td>\n",
       "      <td>CBDS</td>\n",
       "      <td>VI</td>\n",
       "      <td>20</td>\n",
       "    </tr>\n",
       "  </tbody>\n",
       "</table>\n",
       "</div>"
      ],
      "text/plain": [
       "                           Reg Id         Name     SUB CODE  \\\n",
       "0                  BOPPUDI SUDESH  20CB604/PE2  20CB605/JO2   \n",
       "1  DAKAMARRI JESHNAVI SRI KAVITHA  20CB604/PE2  20CB605/JO2   \n",
       "2                   MADDI JAYANTH  20CB604/PE2  20CB605/JO2   \n",
       "3                  ATMAKURI RAMYA  20CB604/PE2  20CB605/JO2   \n",
       "4              BODDULURI JAGADISH  20CB604/PE2  20CB605/JO2   \n",
       "\n",
       "                  SUB NAME  Dept Sem Year  \n",
       "0  BLOCKCHAIN TECHNOLOGIES  CBDS  VI   20  \n",
       "1  BLOCKCHAIN TECHNOLOGIES  CBDS  VI   20  \n",
       "2  BLOCKCHAIN TECHNOLOGIES  CBDS  VI   20  \n",
       "3  BLOCKCHAIN TECHNOLOGIES  CBDS  VI   20  \n",
       "4  BLOCKCHAIN TECHNOLOGIES  CBDS  VI   20  "
      ]
     },
     "execution_count": 5,
     "metadata": {},
     "output_type": "execute_result"
    }
   ],
   "source": [
    "main_df_20_6_cbds.head(5)"
   ]
  },
  {
   "cell_type": "code",
   "execution_count": 6,
   "id": "f65dcaf3",
   "metadata": {},
   "outputs": [
    {
     "data": {
      "text/plain": [
       "(2600, 7)"
      ]
     },
     "execution_count": 6,
     "metadata": {},
     "output_type": "execute_result"
    }
   ],
   "source": [
    "main_df_20_6.shape"
   ]
  },
  {
   "cell_type": "code",
   "execution_count": 7,
   "id": "e80a5b03",
   "metadata": {},
   "outputs": [
    {
     "data": {
      "text/plain": [
       "(195, 7)"
      ]
     },
     "execution_count": 7,
     "metadata": {},
     "output_type": "execute_result"
    }
   ],
   "source": [
    "main_df_20_6_cbds.shape"
   ]
  },
  {
   "cell_type": "code",
   "execution_count": 8,
   "id": "1f7bbd8d",
   "metadata": {},
   "outputs": [],
   "source": [
    "main_df_20_6=pd.concat([main_df_20_6,main_df_20_6_cbds],axis=0)"
   ]
  },
  {
   "cell_type": "code",
   "execution_count": 9,
   "id": "bdf4b2b2",
   "metadata": {},
   "outputs": [
    {
     "data": {
      "text/plain": [
       "(2795, 7)"
      ]
     },
     "execution_count": 9,
     "metadata": {},
     "output_type": "execute_result"
    }
   ],
   "source": [
    "main_df_20_6.shape"
   ]
  },
  {
   "cell_type": "code",
   "execution_count": 10,
   "id": "22cd9915",
   "metadata": {},
   "outputs": [],
   "source": [
    "import pandas as pd"
   ]
  },
  {
   "cell_type": "code",
   "execution_count": 11,
   "id": "8411d69d",
   "metadata": {},
   "outputs": [],
   "source": [
    "sheet=pd.read_excel(\"Data/Y20/VII/A.Y 2023-24 VII SEM ELECTIVES-CBDS.xlsx\")"
   ]
  },
  {
   "cell_type": "code",
   "execution_count": 12,
   "id": "7979684a",
   "metadata": {},
   "outputs": [],
   "source": [
    "import os\n",
    "import pandas as pd\n",
    "\n",
    "# Directory containing Excel files\n",
    "folder_path = 'Data/Y20/VII'\n",
    "\n",
    "# Get list of all files in the directory\n",
    "files = os.listdir(folder_path)\n",
    "\n",
    "# Filter out only Excel files\n",
    "excel_files = [file for file in files if file.endswith('.xlsx') or file.endswith('.xls')]\n",
    "\n",
    "#print(excel_files)\n",
    "\n",
    "# print(len(excel_files))\n",
    "\n",
    "# Iterate over each Excel file and read it into a DataFrame\n",
    "dfs = []\n",
    "vi_20_samef_dept_list=[\"CBDS\",\"CE\",\"CS\",\"EEE\",\"ME\",\"EC\",\"IT\",\"EIE\"]\n",
    "main_df_20_7=pd.DataFrame(columns=[\"Reg Id\",\"Name\",\"SUB CODE\",\"SUB NAME\",\"Dept\",\"Sem\",\"Year\"])\n",
    "for file in excel_files:\n",
    "    file_path = os.path.join(folder_path, file)\n",
    "    #print(file_path)\n",
    "    for i in vi_20_samef_dept_list:\n",
    "        if(\"_\"+i in file_path and '~$' not in file_path):\n",
    "            dept=i\n",
    "            #print(dept,file_path)\n",
    "            sheet=pd.read_excel(file_path,header=None)\n",
    "            u_s1=sheet.iloc[2:,:]\n",
    "            u_s1.columns = u_s1.iloc[0]\n",
    "            u_s1.reset_index(drop=True,inplace=True)\n",
    "            u_s1=u_s1.iloc[1:,:]\n",
    "            #print(u_s1.columns)\n",
    "            u_s1.columns.values[0]=\"Reg Id\"\n",
    "            u_s1.columns.values[1]=\"Name\"\n",
    "            new_df=pd.DataFrame(u_s1)\n",
    "            temp_cols_sc=list(new_df.columns)\n",
    "            temp_cols_sn=list(new_df.columns)\n",
    "            temp_cols_sc_index=[i for i in range(0,len(temp_cols_sc)) if(temp_cols_sc[i]==\"SUB CODE\")]\n",
    "            temp_cols_sn_index=[i for i in range(0,len(temp_cols_sn)) if(temp_cols_sn[i]==\"SUB NAME\")]\n",
    "            #print(temp_cols_sc_index,temp_cols_sn_index)\n",
    "            for i in range(0,len(temp_cols_sc_index)):\n",
    "                new_df_temp=pd.DataFrame()\n",
    "                new_df_temp[\"Reg Id\"]=new_df[\"Reg Id\"]\n",
    "                new_df_temp[\"SUB CODE\"]=new_df.iloc[:,temp_cols_sc_index[i]]\n",
    "                new_df_temp[\"SUB NAME\"]=new_df.iloc[:,temp_cols_sn_index[i]]\n",
    "                new_df_temp[\"Dept\"]=dept\n",
    "                new_df_temp[\"Sem\"]=\"VII\"\n",
    "                new_df_temp[\"Year\"]=\"20\"\n",
    "                new_df_temp[\"Name\"]=new_df[\"Name\"]\n",
    "                main_df_20_7=pd.concat([main_df_20_7,new_df_temp],ignore_index=True,axis=0)\n",
    "                "
   ]
  },
  {
   "cell_type": "code",
   "execution_count": 13,
   "id": "e122e62f",
   "metadata": {},
   "outputs": [
    {
     "data": {
      "text/html": [
       "<div>\n",
       "<style scoped>\n",
       "    .dataframe tbody tr th:only-of-type {\n",
       "        vertical-align: middle;\n",
       "    }\n",
       "\n",
       "    .dataframe tbody tr th {\n",
       "        vertical-align: top;\n",
       "    }\n",
       "\n",
       "    .dataframe thead th {\n",
       "        text-align: right;\n",
       "    }\n",
       "</style>\n",
       "<table border=\"1\" class=\"dataframe\">\n",
       "  <thead>\n",
       "    <tr style=\"text-align: right;\">\n",
       "      <th></th>\n",
       "      <th>Reg Id</th>\n",
       "      <th>Name</th>\n",
       "      <th>SUB CODE</th>\n",
       "      <th>SUB NAME</th>\n",
       "      <th>Dept</th>\n",
       "      <th>Sem</th>\n",
       "      <th>Year</th>\n",
       "    </tr>\n",
       "  </thead>\n",
       "  <tbody>\n",
       "    <tr>\n",
       "      <th>0</th>\n",
       "      <td>L18ACE572</td>\n",
       "      <td>PULLA UMA MAHESH</td>\n",
       "      <td>20CE702/PEC03</td>\n",
       "      <td>Advanced Design of Concrete structures</td>\n",
       "      <td>CE</td>\n",
       "      <td>VII</td>\n",
       "      <td>20</td>\n",
       "    </tr>\n",
       "    <tr>\n",
       "      <th>1</th>\n",
       "      <td>L21ACE401</td>\n",
       "      <td>BHAVANAGIRI MEGHANA</td>\n",
       "      <td>20CE702/PEC03</td>\n",
       "      <td>Advanced Design of Concrete structures</td>\n",
       "      <td>CE</td>\n",
       "      <td>VII</td>\n",
       "      <td>20</td>\n",
       "    </tr>\n",
       "    <tr>\n",
       "      <th>2</th>\n",
       "      <td>L21ACE402</td>\n",
       "      <td>KAYALA CHAKRADHAR</td>\n",
       "      <td>20CE702/PEC03</td>\n",
       "      <td>Advanced Design of Concrete structures</td>\n",
       "      <td>CE</td>\n",
       "      <td>VII</td>\n",
       "      <td>20</td>\n",
       "    </tr>\n",
       "    <tr>\n",
       "      <th>3</th>\n",
       "      <td>L21ACE403</td>\n",
       "      <td>KURAKULA BHUVAN LAKSHMI PRAVEEN</td>\n",
       "      <td>20CE702/PEC03</td>\n",
       "      <td>Advanced Design of Concrete structures</td>\n",
       "      <td>CE</td>\n",
       "      <td>VII</td>\n",
       "      <td>20</td>\n",
       "    </tr>\n",
       "    <tr>\n",
       "      <th>4</th>\n",
       "      <td>L21ACE404</td>\n",
       "      <td>PACHHIGOLLA CHANIKYA</td>\n",
       "      <td>20CE702/PEC03</td>\n",
       "      <td>Advanced Design of Concrete structures</td>\n",
       "      <td>CE</td>\n",
       "      <td>VII</td>\n",
       "      <td>20</td>\n",
       "    </tr>\n",
       "  </tbody>\n",
       "</table>\n",
       "</div>"
      ],
      "text/plain": [
       "      Reg Id                             Name       SUB CODE  \\\n",
       "0  L18ACE572                 PULLA UMA MAHESH  20CE702/PEC03   \n",
       "1  L21ACE401              BHAVANAGIRI MEGHANA  20CE702/PEC03   \n",
       "2  L21ACE402                KAYALA CHAKRADHAR  20CE702/PEC03   \n",
       "3  L21ACE403  KURAKULA BHUVAN LAKSHMI PRAVEEN  20CE702/PEC03   \n",
       "4  L21ACE404             PACHHIGOLLA CHANIKYA  20CE702/PEC03   \n",
       "\n",
       "                                 SUB NAME Dept  Sem Year  \n",
       "0  Advanced Design of Concrete structures   CE  VII   20  \n",
       "1  Advanced Design of Concrete structures   CE  VII   20  \n",
       "2  Advanced Design of Concrete structures   CE  VII   20  \n",
       "3  Advanced Design of Concrete structures   CE  VII   20  \n",
       "4  Advanced Design of Concrete structures   CE  VII   20  "
      ]
     },
     "execution_count": 13,
     "metadata": {},
     "output_type": "execute_result"
    }
   ],
   "source": [
    "main_df_20_7.head(5)"
   ]
  },
  {
   "cell_type": "code",
   "execution_count": 14,
   "id": "b6d239e9",
   "metadata": {},
   "outputs": [
    {
     "data": {
      "text/plain": [
       "(4464, 7)"
      ]
     },
     "execution_count": 14,
     "metadata": {},
     "output_type": "execute_result"
    }
   ],
   "source": [
    "main_df_20_7.shape"
   ]
  },
  {
   "cell_type": "code",
   "execution_count": 15,
   "id": "87eb1831",
   "metadata": {},
   "outputs": [],
   "source": [
    "main_df_20=pd.concat([main_df_20_6,main_df_20_7],axis=0)"
   ]
  },
  {
   "cell_type": "code",
   "execution_count": 16,
   "id": "66a8a221",
   "metadata": {},
   "outputs": [],
   "source": [
    "main_df_20.dropna(inplace=True)"
   ]
  },
  {
   "cell_type": "code",
   "execution_count": 17,
   "id": "e7e1b082",
   "metadata": {},
   "outputs": [
    {
     "data": {
      "text/plain": [
       "(7160, 7)"
      ]
     },
     "execution_count": 17,
     "metadata": {},
     "output_type": "execute_result"
    }
   ],
   "source": [
    "main_df_20.shape"
   ]
  },
  {
   "cell_type": "code",
   "execution_count": 18,
   "id": "bb295c4f",
   "metadata": {},
   "outputs": [],
   "source": [
    "main_df_20.to_excel(\"main_df_20.xlsx\", index=False)  "
   ]
  },
  {
   "cell_type": "code",
   "execution_count": null,
   "id": "f2e12376",
   "metadata": {},
   "outputs": [],
   "source": []
  }
 ],
 "metadata": {
  "kernelspec": {
   "display_name": "Python 3 (ipykernel)",
   "language": "python",
   "name": "python3"
  },
  "language_info": {
   "codemirror_mode": {
    "name": "ipython",
    "version": 3
   },
   "file_extension": ".py",
   "mimetype": "text/x-python",
   "name": "python",
   "nbconvert_exporter": "python",
   "pygments_lexer": "ipython3",
   "version": "3.11.5"
  }
 },
 "nbformat": 4,
 "nbformat_minor": 5
}
